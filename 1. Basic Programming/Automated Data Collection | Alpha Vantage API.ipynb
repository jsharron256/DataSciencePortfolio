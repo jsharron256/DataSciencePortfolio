{
 "cells": [
  {
   "cell_type": "markdown",
   "id": "ff2668ec",
   "metadata": {},
   "source": [
    "# Automated Data Collection | Alpha Vantage API\n",
    "\n",
    "## Overview\n",
    "A script automating the process of collecting, cleaning, and storing data from financial API, Alpha Vantage."
   ]
  },
  {
   "cell_type": "markdown",
   "id": "e5e9f1f2",
   "metadata": {},
   "source": [
    "### 1. Set Up Environment: Import appropriate libraries."
   ]
  },
  {
   "cell_type": "code",
   "execution_count": 1,
   "id": "1dc2af41",
   "metadata": {},
   "outputs": [],
   "source": [
    "import requests\n",
    "import json\n",
    "import pandas as pd\n",
    "import sqlite3"
   ]
  },
  {
   "cell_type": "markdown",
   "id": "89387316",
   "metadata": {},
   "source": [
    "### 2. Collect Data: Define the data retrieval function."
   ]
  },
  {
   "cell_type": "code",
   "execution_count": 2,
   "id": "18d20b98",
   "metadata": {},
   "outputs": [],
   "source": [
    "def get_stock_data(symbol, API_KEY):\n",
    "    base_url = \"https://www.alphavantage.co/query?\"\n",
    "    function = \"TIME_SERIES_DAILY\" # Alterable based on the data desired. \n",
    "    output_size = \"compact\" # Choice b/w \"compact\" or \"full\" depending on the amt of historical data desired.\n",
    "    datatype = \"json\"\n",
    "    \n",
    "    # Construct the API request URL\n",
    "    api_url = f\"{base_url}function={function}&symbol={symbol}&outputsize={output_size}&apikey={API_KEY}&datatype={datatype}\"\n",
    "    \n",
    "    # Send request to API\n",
    "    response = requests.get(api_url)\n",
    "    \n",
    "    # Parse the generated JSON response\n",
    "    data = json.loads(response.text)\n",
    "    \n",
    "    return data"
   ]
  },
  {
   "cell_type": "code",
   "execution_count": 4,
   "id": "8f682fa5",
   "metadata": {},
   "outputs": [],
   "source": [
    "# Test 1:\n",
    "# get_stock_data(\"AAPL\", API_KEY)"
   ]
  },
  {
   "cell_type": "markdown",
   "id": "1003dc57",
   "metadata": {},
   "source": [
    "### 3. Data Cleaning: Clean and pre-process the data to make it suitable for analysis."
   ]
  },
  {
   "cell_type": "code",
   "execution_count": 5,
   "id": "f43c320c",
   "metadata": {},
   "outputs": [],
   "source": [
    "def clean_data(raw_data):\n",
    "    \n",
    "    # Convert gathered data into a Pandas DataFrame\n",
    "    data = pd.DataFrame(raw_data['Time Series (Daily)']).T\n",
    "    \n",
    "    # Rename columns\n",
    "    data.columns = [\"Open\", \"High\", \"Low\", \"Close\", \"Volume\"]\n",
    "    \n",
    "    # Convert index to datetime\n",
    "    data.index = pd.to_datetime(data.index)\n",
    "    \n",
    "    # Convert data to numeric values\n",
    "    for column in data.columns:\n",
    "        data[column] = pd.to_numeric(data[column])\n",
    "\n",
    "    return data"
   ]
  },
  {
   "cell_type": "code",
   "execution_count": 6,
   "id": "0707fa41",
   "metadata": {},
   "outputs": [
    {
     "data": {
      "text/html": [
       "<div>\n",
       "<style scoped>\n",
       "    .dataframe tbody tr th:only-of-type {\n",
       "        vertical-align: middle;\n",
       "    }\n",
       "\n",
       "    .dataframe tbody tr th {\n",
       "        vertical-align: top;\n",
       "    }\n",
       "\n",
       "    .dataframe thead th {\n",
       "        text-align: right;\n",
       "    }\n",
       "</style>\n",
       "<table border=\"1\" class=\"dataframe\">\n",
       "  <thead>\n",
       "    <tr style=\"text-align: right;\">\n",
       "      <th></th>\n",
       "      <th>Open</th>\n",
       "      <th>High</th>\n",
       "      <th>Low</th>\n",
       "      <th>Close</th>\n",
       "      <th>Volume</th>\n",
       "    </tr>\n",
       "  </thead>\n",
       "  <tbody>\n",
       "    <tr>\n",
       "      <th>2023-08-01</th>\n",
       "      <td>196.235</td>\n",
       "      <td>196.730</td>\n",
       "      <td>195.2800</td>\n",
       "      <td>195.605</td>\n",
       "      <td>34727848</td>\n",
       "    </tr>\n",
       "    <tr>\n",
       "      <th>2023-07-31</th>\n",
       "      <td>196.060</td>\n",
       "      <td>196.490</td>\n",
       "      <td>195.2600</td>\n",
       "      <td>196.450</td>\n",
       "      <td>38824113</td>\n",
       "    </tr>\n",
       "    <tr>\n",
       "      <th>2023-07-28</th>\n",
       "      <td>194.670</td>\n",
       "      <td>196.626</td>\n",
       "      <td>194.1400</td>\n",
       "      <td>195.830</td>\n",
       "      <td>48291443</td>\n",
       "    </tr>\n",
       "    <tr>\n",
       "      <th>2023-07-27</th>\n",
       "      <td>196.020</td>\n",
       "      <td>197.200</td>\n",
       "      <td>192.5500</td>\n",
       "      <td>193.220</td>\n",
       "      <td>47460180</td>\n",
       "    </tr>\n",
       "    <tr>\n",
       "      <th>2023-07-26</th>\n",
       "      <td>193.670</td>\n",
       "      <td>195.640</td>\n",
       "      <td>193.3200</td>\n",
       "      <td>194.500</td>\n",
       "      <td>47471868</td>\n",
       "    </tr>\n",
       "    <tr>\n",
       "      <th>...</th>\n",
       "      <td>...</td>\n",
       "      <td>...</td>\n",
       "      <td>...</td>\n",
       "      <td>...</td>\n",
       "      <td>...</td>\n",
       "    </tr>\n",
       "    <tr>\n",
       "      <th>2023-03-15</th>\n",
       "      <td>151.190</td>\n",
       "      <td>153.245</td>\n",
       "      <td>149.9200</td>\n",
       "      <td>152.990</td>\n",
       "      <td>77167866</td>\n",
       "    </tr>\n",
       "    <tr>\n",
       "      <th>2023-03-14</th>\n",
       "      <td>151.280</td>\n",
       "      <td>153.400</td>\n",
       "      <td>150.1000</td>\n",
       "      <td>152.590</td>\n",
       "      <td>73695893</td>\n",
       "    </tr>\n",
       "    <tr>\n",
       "      <th>2023-03-13</th>\n",
       "      <td>147.805</td>\n",
       "      <td>153.140</td>\n",
       "      <td>147.7000</td>\n",
       "      <td>150.470</td>\n",
       "      <td>84457122</td>\n",
       "    </tr>\n",
       "    <tr>\n",
       "      <th>2023-03-10</th>\n",
       "      <td>150.210</td>\n",
       "      <td>150.940</td>\n",
       "      <td>147.6096</td>\n",
       "      <td>148.500</td>\n",
       "      <td>68572400</td>\n",
       "    </tr>\n",
       "    <tr>\n",
       "      <th>2023-03-09</th>\n",
       "      <td>153.559</td>\n",
       "      <td>154.535</td>\n",
       "      <td>150.2250</td>\n",
       "      <td>150.590</td>\n",
       "      <td>53833582</td>\n",
       "    </tr>\n",
       "  </tbody>\n",
       "</table>\n",
       "<p>100 rows × 5 columns</p>\n",
       "</div>"
      ],
      "text/plain": [
       "               Open     High       Low    Close    Volume\n",
       "2023-08-01  196.235  196.730  195.2800  195.605  34727848\n",
       "2023-07-31  196.060  196.490  195.2600  196.450  38824113\n",
       "2023-07-28  194.670  196.626  194.1400  195.830  48291443\n",
       "2023-07-27  196.020  197.200  192.5500  193.220  47460180\n",
       "2023-07-26  193.670  195.640  193.3200  194.500  47471868\n",
       "...             ...      ...       ...      ...       ...\n",
       "2023-03-15  151.190  153.245  149.9200  152.990  77167866\n",
       "2023-03-14  151.280  153.400  150.1000  152.590  73695893\n",
       "2023-03-13  147.805  153.140  147.7000  150.470  84457122\n",
       "2023-03-10  150.210  150.940  147.6096  148.500  68572400\n",
       "2023-03-09  153.559  154.535  150.2250  150.590  53833582\n",
       "\n",
       "[100 rows x 5 columns]"
      ]
     },
     "execution_count": 6,
     "metadata": {},
     "output_type": "execute_result"
    }
   ],
   "source": [
    "# Test 2\n",
    "clean_data(get_stock_data(\"AAPL\", API_KEY))"
   ]
  },
  {
   "cell_type": "markdown",
   "id": "20839ce1",
   "metadata": {},
   "source": [
    "### 4. Data Storage: Save the cleaned data into a local file or database for future use."
   ]
  },
  {
   "cell_type": "code",
   "execution_count": 7,
   "id": "e0f3c1cf",
   "metadata": {},
   "outputs": [],
   "source": [
    "def store_data(data, symbol, db_path):\n",
    "    conn = sqlite3.connect(db_path)\n",
    "    \n",
    "    # Write the data to a sqlite table\n",
    "    data.to_sql(symbol, conn, if_exists='replace', index=True)\n",
    "\n",
    "    conn.close()"
   ]
  },
  {
   "cell_type": "markdown",
   "id": "516ac36c",
   "metadata": {},
   "source": [
    "### 5. Test Run: Apple Stock Data"
   ]
  },
  {
   "cell_type": "code",
   "execution_count": 9,
   "id": "751c077b",
   "metadata": {},
   "outputs": [],
   "source": [
    "def main():\n",
    "    \n",
    "    # Define the stock symbol and the API key\n",
    "    symbol = \"stock_ticker\"\n",
    "    API_KEY = \"API_KEY\"\n",
    "    db_path = \"stock_data.db\"\n",
    "\n",
    "    # Collect data\n",
    "    raw_data = get_stock_data(symbol, API_KEY)\n",
    "\n",
    "    # Clean data\n",
    "    data = clean_data(raw_data)\n",
    "\n",
    "    # Store data\n",
    "    store_data(data, symbol, db_path)\n",
    "    \n",
    "if __name__ == \"__main__\":\n",
    "    main()"
   ]
  }
 ],
 "metadata": {
  "kernelspec": {
   "display_name": "Python 3 (ipykernel)",
   "language": "python",
   "name": "python3"
  },
  "language_info": {
   "codemirror_mode": {
    "name": "ipython",
    "version": 3
   },
   "file_extension": ".py",
   "mimetype": "text/x-python",
   "name": "python",
   "nbconvert_exporter": "python",
   "pygments_lexer": "ipython3",
   "version": "3.9.15"
  }
 },
 "nbformat": 4,
 "nbformat_minor": 5
}
